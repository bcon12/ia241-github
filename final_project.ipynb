{
 "cells": [
  {
   "cell_type": "markdown",
   "id": "3e6d9f8f",
   "metadata": {},
   "source": [
    "# COVID-19 Data in Switzerland"
   ]
  },
  {
   "attachments": {
    "170px-Flag_of_Switzerland.svg.png": {
     "image/png": "[encoded data removed]"
    }
   },
   "cell_type": "markdown",
   "id": "18ac9088",
   "metadata": {},
   "source": [
    "![170px-Flag_of_Switzerland.svg.png](attachment:170px-Flag_of_Switzerland.svg.png)"
   ]
  },
  {
   "cell_type": "markdown",
   "id": "63d1282a",
   "metadata": {},
   "source": [
    "### Introduction & COVID-19 Background"
   ]
  },
  {
   "cell_type": "markdown",
   "id": "1a690a7f",
   "metadata": {},
   "source": [
    "Coronavirus disease (COVID-19) is an infectious disease caused by the SARS-CoV-2 virus.  Globally, as of 7:46pm CEST, 2 May 2022, there have been 511,479,320 confirmed cases of COVID-19, including 6,238,832 deaths.  The virus is usually spread from person to person by close contact with an infectious person and contact with droplets from an infected person's cough or sneeze."
   ]
  },
  {
   "cell_type": "markdown",
   "id": "2ed91882",
   "metadata": {},
   "source": [
    "## Data Source"
   ]
  },
  {
   "cell_type": "markdown",
   "id": "1c1c932d",
   "metadata": {},
   "source": [
    "The data is from the [European Centre for Disease Prevention and Control](https://www.ecdc.europa.eu/en/publications-data/download-todays-data-geographic-distribution-covid-19-cases-worldwide)"
   ]
  },
  {
   "cell_type": "code",
   "execution_count": 3,
   "id": "104071cb",
   "metadata": {},
   "outputs": [],
   "source": [
    "%matplotlib inline\n",
    "import pandas"
   ]
  },
  {
   "cell_type": "markdown",
   "id": "81a3066a",
   "metadata": {},
   "source": [
    "## Data in Switzerland"
   ]
  },
  {
   "cell_type": "code",
   "execution_count": 6,
   "id": "2434e0fe",
   "metadata": {},
   "outputs": [
    {
     "data": {
      "text/html": [
       "<div>\n",
       "<style scoped>\n",
       "    .dataframe tbody tr th:only-of-type {\n",
       "        vertical-align: middle;\n",
       "    }\n",
       "\n",
       "    .dataframe tbody tr th {\n",
       "        vertical-align: top;\n",
       "    }\n",
       "\n",
       "    .dataframe thead th {\n",
       "        text-align: right;\n",
       "    }\n",
       "</style>\n",
       "<table border=\"1\" class=\"dataframe\">\n",
       "  <thead>\n",
       "    <tr style=\"text-align: right;\">\n",
       "      <th></th>\n",
       "      <th>dateRep</th>\n",
       "      <th>day</th>\n",
       "      <th>month</th>\n",
       "      <th>year</th>\n",
       "      <th>cases</th>\n",
       "      <th>deaths</th>\n",
       "      <th>countriesAndTerritories</th>\n",
       "      <th>geoId</th>\n",
       "      <th>countryterritoryCode</th>\n",
       "      <th>popData2019</th>\n",
       "      <th>continentExp</th>\n",
       "      <th>Cumulative_number_for_14_days_of_COVID-19_cases_per_100000</th>\n",
       "    </tr>\n",
       "  </thead>\n",
       "  <tbody>\n",
       "    <tr>\n",
       "      <th>54309</th>\n",
       "      <td>14/12/2020</td>\n",
       "      <td>14</td>\n",
       "      <td>12</td>\n",
       "      <td>2020</td>\n",
       "      <td>0</td>\n",
       "      <td>0</td>\n",
       "      <td>Switzerland</td>\n",
       "      <td>CH</td>\n",
       "      <td>CHE</td>\n",
       "      <td>8544527.0</td>\n",
       "      <td>Europe</td>\n",
       "      <td>647.338349</td>\n",
       "    </tr>\n",
       "    <tr>\n",
       "      <th>54310</th>\n",
       "      <td>13/12/2020</td>\n",
       "      <td>13</td>\n",
       "      <td>12</td>\n",
       "      <td>2020</td>\n",
       "      <td>0</td>\n",
       "      <td>0</td>\n",
       "      <td>Switzerland</td>\n",
       "      <td>CH</td>\n",
       "      <td>CHE</td>\n",
       "      <td>8544527.0</td>\n",
       "      <td>Europe</td>\n",
       "      <td>647.338349</td>\n",
       "    </tr>\n",
       "    <tr>\n",
       "      <th>54311</th>\n",
       "      <td>2020-12-12 00:00:00</td>\n",
       "      <td>12</td>\n",
       "      <td>12</td>\n",
       "      <td>2020</td>\n",
       "      <td>5111</td>\n",
       "      <td>105</td>\n",
       "      <td>Switzerland</td>\n",
       "      <td>CH</td>\n",
       "      <td>CHE</td>\n",
       "      <td>8544527.0</td>\n",
       "      <td>Europe</td>\n",
       "      <td>647.338349</td>\n",
       "    </tr>\n",
       "    <tr>\n",
       "      <th>54312</th>\n",
       "      <td>2020-11-12 00:00:00</td>\n",
       "      <td>11</td>\n",
       "      <td>12</td>\n",
       "      <td>2020</td>\n",
       "      <td>5038</td>\n",
       "      <td>87</td>\n",
       "      <td>Switzerland</td>\n",
       "      <td>CH</td>\n",
       "      <td>CHE</td>\n",
       "      <td>8544527.0</td>\n",
       "      <td>Europe</td>\n",
       "      <td>637.788376</td>\n",
       "    </tr>\n",
       "    <tr>\n",
       "      <th>54313</th>\n",
       "      <td>2020-10-12 00:00:00</td>\n",
       "      <td>10</td>\n",
       "      <td>12</td>\n",
       "      <td>2020</td>\n",
       "      <td>5059</td>\n",
       "      <td>87</td>\n",
       "      <td>Switzerland</td>\n",
       "      <td>CH</td>\n",
       "      <td>CHE</td>\n",
       "      <td>8544527.0</td>\n",
       "      <td>Europe</td>\n",
       "      <td>631.117439</td>\n",
       "    </tr>\n",
       "    <tr>\n",
       "      <th>54314</th>\n",
       "      <td>2020-09-12 00:00:00</td>\n",
       "      <td>9</td>\n",
       "      <td>12</td>\n",
       "      <td>2020</td>\n",
       "      <td>4246</td>\n",
       "      <td>92</td>\n",
       "      <td>Switzerland</td>\n",
       "      <td>CH</td>\n",
       "      <td>CHE</td>\n",
       "      <td>8544527.0</td>\n",
       "      <td>Europe</td>\n",
       "      <td>628.811870</td>\n",
       "    </tr>\n",
       "    <tr>\n",
       "      <th>54315</th>\n",
       "      <td>2020-08-12 00:00:00</td>\n",
       "      <td>8</td>\n",
       "      <td>12</td>\n",
       "      <td>2020</td>\n",
       "      <td>9774</td>\n",
       "      <td>175</td>\n",
       "      <td>Switzerland</td>\n",
       "      <td>CH</td>\n",
       "      <td>CHE</td>\n",
       "      <td>8544527.0</td>\n",
       "      <td>Europe</td>\n",
       "      <td>628.519285</td>\n",
       "    </tr>\n",
       "    <tr>\n",
       "      <th>54316</th>\n",
       "      <td>2020-07-12 00:00:00</td>\n",
       "      <td>7</td>\n",
       "      <td>12</td>\n",
       "      <td>2020</td>\n",
       "      <td>0</td>\n",
       "      <td>0</td>\n",
       "      <td>Switzerland</td>\n",
       "      <td>CH</td>\n",
       "      <td>CHE</td>\n",
       "      <td>8544527.0</td>\n",
       "      <td>Europe</td>\n",
       "      <td>627.512793</td>\n",
       "    </tr>\n",
       "    <tr>\n",
       "      <th>54317</th>\n",
       "      <td>2020-06-12 00:00:00</td>\n",
       "      <td>6</td>\n",
       "      <td>12</td>\n",
       "      <td>2020</td>\n",
       "      <td>0</td>\n",
       "      <td>0</td>\n",
       "      <td>Switzerland</td>\n",
       "      <td>CH</td>\n",
       "      <td>CHE</td>\n",
       "      <td>8544527.0</td>\n",
       "      <td>Europe</td>\n",
       "      <td>627.512793</td>\n",
       "    </tr>\n",
       "    <tr>\n",
       "      <th>54318</th>\n",
       "      <td>2020-05-12 00:00:00</td>\n",
       "      <td>5</td>\n",
       "      <td>12</td>\n",
       "      <td>2020</td>\n",
       "      <td>4370</td>\n",
       "      <td>100</td>\n",
       "      <td>Switzerland</td>\n",
       "      <td>CH</td>\n",
       "      <td>CHE</td>\n",
       "      <td>8544527.0</td>\n",
       "      <td>Europe</td>\n",
       "      <td>627.512793</td>\n",
       "    </tr>\n",
       "  </tbody>\n",
       "</table>\n",
       "</div>"
      ],
      "text/plain": [
       "                   dateRep  day  month  year  cases  deaths  \\\n",
       "54309           14/12/2020   14     12  2020      0       0   \n",
       "54310           13/12/2020   13     12  2020      0       0   \n",
       "54311  2020-12-12 00:00:00   12     12  2020   5111     105   \n",
       "54312  2020-11-12 00:00:00   11     12  2020   5038      87   \n",
       "54313  2020-10-12 00:00:00   10     12  2020   5059      87   \n",
       "54314  2020-09-12 00:00:00    9     12  2020   4246      92   \n",
       "54315  2020-08-12 00:00:00    8     12  2020   9774     175   \n",
       "54316  2020-07-12 00:00:00    7     12  2020      0       0   \n",
       "54317  2020-06-12 00:00:00    6     12  2020      0       0   \n",
       "54318  2020-05-12 00:00:00    5     12  2020   4370     100   \n",
       "\n",
       "      countriesAndTerritories geoId countryterritoryCode  popData2019  \\\n",
       "54309             Switzerland    CH                  CHE    8544527.0   \n",
       "54310             Switzerland    CH                  CHE    8544527.0   \n",
       "54311             Switzerland    CH                  CHE    8544527.0   \n",
       "54312             Switzerland    CH                  CHE    8544527.0   \n",
       "54313             Switzerland    CH                  CHE    8544527.0   \n",
       "54314             Switzerland    CH                  CHE    8544527.0   \n",
       "54315             Switzerland    CH                  CHE    8544527.0   \n",
       "54316             Switzerland    CH                  CHE    8544527.0   \n",
       "54317             Switzerland    CH                  CHE    8544527.0   \n",
       "54318             Switzerland    CH                  CHE    8544527.0   \n",
       "\n",
       "      continentExp  Cumulative_number_for_14_days_of_COVID-19_cases_per_100000  \n",
       "54309       Europe                                         647.338349           \n",
       "54310       Europe                                         647.338349           \n",
       "54311       Europe                                         647.338349           \n",
       "54312       Europe                                         637.788376           \n",
       "54313       Europe                                         631.117439           \n",
       "54314       Europe                                         628.811870           \n",
       "54315       Europe                                         628.519285           \n",
       "54316       Europe                                         627.512793           \n",
       "54317       Europe                                         627.512793           \n",
       "54318       Europe                                         627.512793           "
      ]
     },
     "execution_count": 6,
     "metadata": {},
     "output_type": "execute_result"
    }
   ],
   "source": [
    "df = pandas.read_excel('s3://ia-241-spring-22-conahan/covid_data.xls')\n",
    "Switzerland_Data=df.loc[df['countriesAndTerritories']=='Switzerland']\n",
    "Switzerland_Data[:10]"
   ]
  },
  {
   "cell_type": "markdown",
   "id": "32f610c7",
   "metadata": {},
   "source": [
    "## Question 1: Which month had the highest COVID-19 deaths in 2020?"
   ]
  },
  {
   "cell_type": "code",
   "execution_count": 11,
   "id": "0c2e6504",
   "metadata": {},
   "outputs": [
    {
     "data": {
      "text/plain": [
       "month\n",
       "1        0\n",
       "2        0\n",
       "3      295\n",
       "4     1112\n",
       "5      249\n",
       "6       25\n",
       "7       22\n",
       "8       21\n",
       "9       57\n",
       "10     254\n",
       "11    2201\n",
       "12    1142\n",
       "Name: deaths, dtype: int64"
      ]
     },
     "execution_count": 11,
     "metadata": {},
     "output_type": "execute_result"
    }
   ],
   "source": [
    "month_deaths=Switzerland_Data.groupby('month').sum()['deaths']\n",
    "month_deaths[:]"
   ]
  },
  {
   "cell_type": "code",
   "execution_count": 12,
   "id": "8dd271da",
   "metadata": {},
   "outputs": [
    {
     "data": {
      "text/plain": [
       "<AxesSubplot:xlabel='month'>"
      ]
     },
     "execution_count": 12,
     "metadata": {},
     "output_type": "execute_result"
    },
    {
     "data": {
      "image/png": "[encoded data removed]",
      "text/plain": [
       "<Figure size 432x288 with 1 Axes>"
      ]
     },
     "metadata": {
      "needs_background": "light"
     },
     "output_type": "display_data"
    }
   ],
   "source": [
    "month_deaths.plot.bar()"
   ]
  },
  {
   "cell_type": "markdown",
   "id": "98ae45b1",
   "metadata": {},
   "source": [
    "### Explanation"
   ]
  },
  {
   "cell_type": "markdown",
   "id": "cd526cdd",
   "metadata": {},
   "source": [
    "In the months of April, Novemember, and December were the months with the highest COVID-19 deaths.  March, May, and October had spikes in deaths but not to the extent of having massive outliers.  June, July, August, and September had small spikes in deaths.  January and February had no apparent deaths."
   ]
  },
  {
   "cell_type": "markdown",
   "id": "f946be57",
   "metadata": {},
   "source": [
    "## Question 2:  What is the trend of COVID 19 cases in 2020 in Switzerland?"
   ]
  },
  {
   "cell_type": "code",
   "execution_count": 20,
   "id": "8c78e44e",
   "metadata": {},
   "outputs": [
    {
     "data": {
      "text/plain": [
       "<AxesSubplot:xlabel='month'>"
      ]
     },
     "execution_count": 20,
     "metadata": {},
     "output_type": "execute_result"
    },
    {
     "data": {
      "image/png": "[encoded data removed]",
      "text/plain": [
       "<Figure size 432x288 with 1 Axes>"
      ]
     },
     "metadata": {
      "needs_background": "light"
     },
     "output_type": "display_data"
    }
   ],
   "source": [
    "sum_cases_per_day = Switzerland_Data.groupby('month').sum()['cases']\n",
    "sum_cases_per_day.plot()"
   ]
  },
  {
   "cell_type": "markdown",
   "id": "12e88957",
   "metadata": {},
   "source": [
    "## Explanation"
   ]
  },
  {
   "cell_type": "markdown",
   "id": "02858299",
   "metadata": {},
   "source": [
    "COVID-19 cases to start the year were non-existant then slowly started to go.  With a small decline from March to April, cases continue to downturn until June.  June to September sees a slow rise in COVID-19 cases.  Once September hit, cases spiked incredibly for the months of October, Novemember, and December despite having a general decline."
   ]
  },
  {
   "cell_type": "markdown",
   "id": "3db50e66",
   "metadata": {},
   "source": [
    "# Question 3:  Correlations between Deaths and Cases in Switzerland?"
   ]
  },
  {
   "cell_type": "code",
   "execution_count": 21,
   "id": "3900590e",
   "metadata": {},
   "outputs": [
    {
     "data": {
      "text/plain": [
       "<AxesSubplot:xlabel='cases', ylabel='deaths'>"
      ]
     },
     "execution_count": 21,
     "metadata": {},
     "output_type": "execute_result"
    },
    {
     "data": {
      "image/png": "[encoded data removed]",
      "text/plain": [
       "<Figure size 432x288 with 1 Axes>"
      ]
     },
     "metadata": {
      "needs_background": "light"
     },
     "output_type": "display_data"
    }
   ],
   "source": [
    "Switzerland_Data.plot.scatter(x='cases', y='deaths')"
   ]
  },
  {
   "cell_type": "markdown",
   "id": "4e7369d9",
   "metadata": {},
   "source": [
    "## Explanation"
   ]
  },
  {
   "cell_type": "markdown",
   "id": "2a1ff8f8",
   "metadata": {},
   "source": [
    "The less amounts of cases present, the less amount of deaths.  The more amounts of cases the greater the deaths.  Between 5000 and 17000 cases, lies the highest death rates."
   ]
  },
  {
   "cell_type": "markdown",
   "id": "1af9df80",
   "metadata": {},
   "source": [
    "# Explanation of Calculations"
   ]
  },
  {
   "cell_type": "markdown",
   "id": "92339f5a",
   "metadata": {},
   "source": [
    "In order to obtain the data, I first defined what the data was, so it did not index the entire excel file. I defined the data to only encompass the data from Switzerland. \n",
    "\n",
    "For question 1 I gathered the data by months and deaths and calculated the sum per month from the data and displayed it with a list.  I then organized it into a bar graph to visual the data.\n",
    "\n",
    "For question 2 I took the \"sum_cases_per_day\" and organized them into months (x axis) by cases (y axis) on a line graph for visualization purposes.\n",
    "\n",
    "For question 3 I took organized \"cases\" into the x axis and \"deaths\" into the y axis and organized them into a scatter plot to visual the data."
   ]
  },
  {
   "cell_type": "markdown",
   "id": "7ba828b8",
   "metadata": {},
   "source": [
    "# Conclusion, Limits, Suggestions, and Other Info"
   ]
  },
  {
   "cell_type": "markdown",
   "id": "0db37e62",
   "metadata": {},
   "source": [
    "To conclude, Switerland had its peak numbers of COVID-19 cases in October, Novemember, and December of 2020.  March and April saw rises in COVID-19 cases with a decrease in cases until September.  Switzerland is likely to have a greater control on COVID-19 cases in 2022.  The data was limiting due to only data available in 2020, unable to show rates in 2021 that are more current.\n",
    "\n",
    "Limitations I faced with this project were due to my rudementary understanding of Python only after one semester of working with the language.  In the future I would like to be able to create more informative charts that are capable of displaying more forms of information."
   ]
  },
  {
   "cell_type": "code",
   "execution_count": null,
   "id": "e65895a3",
   "metadata": {},
   "outputs": [],
   "source": []
  }
 ],
 "metadata": {
  "kernelspec": {
   "display_name": "conda_python3",
   "language": "python",
   "name": "conda_python3"
  },
  "language_info": {
   "codemirror_mode": {
    "name": "ipython",
    "version": 3
   },
   "file_extension": ".py",
   "mimetype": "text/x-python",
   "name": "python",
   "nbconvert_exporter": "python",
   "pygments_lexer": "ipython3",
   "version": "3.6.13"
  }
 },
 "nbformat": 4,
 "nbformat_minor": 5
}
